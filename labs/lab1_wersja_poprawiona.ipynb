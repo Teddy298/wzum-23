{
  "cells": [
    {
      "cell_type": "markdown",
      "metadata": {
        "id": "vXUrmp4rcWHq"
      },
      "source": [
        "# Lab1 - Introduction + Neural Networks + PyTorch recap"
      ]
    },
    {
      "cell_type": "markdown",
      "metadata": {
        "id": "Cv8ccZbQcWHs"
      },
      "source": [
        "## Plan for today\n",
        "\n",
        "1. Get to know course rules, timetable, etc.\n",
        "2. Briefly recap our ML knowledge:\n",
        "    * implement basic logistic regression from scratch\n",
        "    * get (re)accustomed with PyTorch"
      ]
    },
    {
      "cell_type": "markdown",
      "metadata": {
        "id": "t9V1oWmbcWHt"
      },
      "source": [
        "## 1. Course logistics\n",
        "\n",
        "Let's go over [the course page](https://github.com/gmum/wzum-22) on GitHub."
      ]
    },
    {
      "cell_type": "markdown",
      "metadata": {
        "id": "h2K7MPJzcWHu"
      },
      "source": [
        "## 2. Logistic regression from scratch\n",
        "\n",
        "We will tackle the problem of **classification**, i.e. prediction of a discrete value (class):\n",
        "\n",
        "$$\n",
        "f(x) = y, y \\in \\{0...N\\}\n",
        "$$\n",
        "\n",
        "The most basic variant of this is **binary** classification: $y \\in \\{0, 1\\}$. We will focus on that for the time being.\n",
        "\n",
        "**Logistic regression** is a model which predicts the probability that a given example belongs to the class 1:\n",
        "\n",
        "$$\n",
        "g(x) = \\hat{p}(y = 1 | x )\n",
        "$$\n",
        "\n",
        "**Questions for you:**\n",
        "* what is the probability that $y=0$?\n",
        "* in the multi-class case, how many outputs will the model have?\n",
        "* what conditions must the model outputs satisfy?\n",
        "\n",
        "As an example, we will work with a breast cancer prediction dataset."
      ]
    },
    {
      "cell_type": "code",
      "execution_count": 21,
      "metadata": {
        "colab": {
          "base_uri": "https://localhost:8080/"
        },
        "id": "_PelfBECcWHv",
        "outputId": "30547acf-6a2d-449b-8ed6-fec3a8f3adbe"
      },
      "outputs": [
        {
          "output_type": "stream",
          "name": "stdout",
          "text": [
            "The autoreload extension is already loaded. To reload it, use:\n",
            "  %reload_ext autoreload\n"
          ]
        }
      ],
      "source": [
        "%load_ext autoreload\n",
        "%autoreload 2"
      ]
    },
    {
      "cell_type": "code",
      "execution_count": 22,
      "metadata": {
        "id": "fxnJCP2BcWHw"
      },
      "outputs": [],
      "source": [
        "from typing import Tuple\n",
        "import numpy as np\n",
        "import matplotlib.pyplot as plt\n",
        "from sklearn.datasets import load_breast_cancer\n",
        "from sklearn.metrics import accuracy_score, precision_score, recall_score\n",
        "from sklearn.model_selection import train_test_split\n",
        "import torch\n",
        "from sklearn.preprocessing import StandardScaler\n",
        "import matplotlib.pyplot as plt\n"
      ]
    },
    {
      "cell_type": "code",
      "execution_count": 23,
      "metadata": {
        "colab": {
          "base_uri": "https://localhost:8080/"
        },
        "id": "Mj51DRKUcWHx",
        "outputId": "7fb664b6-ff2e-4970-b461-979c466930cb"
      },
      "outputs": [
        {
          "output_type": "stream",
          "name": "stdout",
          "text": [
            ".. _breast_cancer_dataset:\n",
            "\n",
            "Breast cancer wisconsin (diagnostic) dataset\n",
            "--------------------------------------------\n",
            "\n",
            "**Data Set Characteristics:**\n",
            "\n",
            "    :Number of Instances: 569\n",
            "\n",
            "    :Number of Attributes: 30 numeric, predictive attributes and the class\n",
            "\n",
            "    :Attribute Information:\n",
            "        - radius (mean of distances from center to points on the perimeter)\n",
            "        - texture (standard deviation of gray-scale values)\n",
            "        - perimeter\n",
            "        - area\n",
            "        - smoothness (local variation in radius lengths)\n",
            "        - compactness (perimeter^2 / area - 1.0)\n",
            "        - concavity (severity of concave portions of the contour)\n",
            "        - concave points (number of concave portions of the contour)\n",
            "        - symmetry\n",
            "        - fractal dimension (\"coastline approximation\" - 1)\n",
            "\n",
            "        The mean, standard error, and \"worst\" or largest (mean of the three\n",
            "        worst/largest values) of these features were computed for each image,\n",
            "        resulting in 30 features.  For instance, field 0 is Mean Radius, field\n",
            "        10 is Radius SE, field 20 is Worst Radius.\n",
            "\n",
            "        - class:\n",
            "                - WDBC-Malignant\n",
            "                - WDBC-Benign\n",
            "\n",
            "    :Summary Statistics:\n",
            "\n",
            "    ===================================== ====== ======\n",
            "                                           Min    Max\n",
            "    ===================================== ====== ======\n",
            "    radius (mean):                        6.981  28.11\n",
            "    texture (mean):                       9.71   39.28\n",
            "    perimeter (mean):                     43.79  188.5\n",
            "    area (mean):                          143.5  2501.0\n",
            "    smoothness (mean):                    0.053  0.163\n",
            "    compactness (mean):                   0.019  0.345\n",
            "    concavity (mean):                     0.0    0.427\n",
            "    concave points (mean):                0.0    0.201\n",
            "    symmetry (mean):                      0.106  0.304\n",
            "    fractal dimension (mean):             0.05   0.097\n",
            "    radius (standard error):              0.112  2.873\n",
            "    texture (standard error):             0.36   4.885\n",
            "    perimeter (standard error):           0.757  21.98\n",
            "    area (standard error):                6.802  542.2\n",
            "    smoothness (standard error):          0.002  0.031\n",
            "    compactness (standard error):         0.002  0.135\n",
            "    concavity (standard error):           0.0    0.396\n",
            "    concave points (standard error):      0.0    0.053\n",
            "    symmetry (standard error):            0.008  0.079\n",
            "    fractal dimension (standard error):   0.001  0.03\n",
            "    radius (worst):                       7.93   36.04\n",
            "    texture (worst):                      12.02  49.54\n",
            "    perimeter (worst):                    50.41  251.2\n",
            "    area (worst):                         185.2  4254.0\n",
            "    smoothness (worst):                   0.071  0.223\n",
            "    compactness (worst):                  0.027  1.058\n",
            "    concavity (worst):                    0.0    1.252\n",
            "    concave points (worst):               0.0    0.291\n",
            "    symmetry (worst):                     0.156  0.664\n",
            "    fractal dimension (worst):            0.055  0.208\n",
            "    ===================================== ====== ======\n",
            "\n",
            "    :Missing Attribute Values: None\n",
            "\n",
            "    :Class Distribution: 212 - Malignant, 357 - Benign\n",
            "\n",
            "    :Creator:  Dr. William H. Wolberg, W. Nick Street, Olvi L. Mangasarian\n",
            "\n",
            "    :Donor: Nick Street\n",
            "\n",
            "    :Date: November, 1995\n",
            "\n",
            "This is a copy of UCI ML Breast Cancer Wisconsin (Diagnostic) datasets.\n",
            "https://goo.gl/U2Uwz2\n",
            "\n",
            "Features are computed from a digitized image of a fine needle\n",
            "aspirate (FNA) of a breast mass.  They describe\n",
            "characteristics of the cell nuclei present in the image.\n",
            "\n",
            "Separating plane described above was obtained using\n",
            "Multisurface Method-Tree (MSM-T) [K. P. Bennett, \"Decision Tree\n",
            "Construction Via Linear Programming.\" Proceedings of the 4th\n",
            "Midwest Artificial Intelligence and Cognitive Science Society,\n",
            "pp. 97-101, 1992], a classification method which uses linear\n",
            "programming to construct a decision tree.  Relevant features\n",
            "were selected using an exhaustive search in the space of 1-4\n",
            "features and 1-3 separating planes.\n",
            "\n",
            "The actual linear program used to obtain the separating plane\n",
            "in the 3-dimensional space is that described in:\n",
            "[K. P. Bennett and O. L. Mangasarian: \"Robust Linear\n",
            "Programming Discrimination of Two Linearly Inseparable Sets\",\n",
            "Optimization Methods and Software 1, 1992, 23-34].\n",
            "\n",
            "This database is also available through the UW CS ftp server:\n",
            "\n",
            "ftp ftp.cs.wisc.edu\n",
            "cd math-prog/cpo-dataset/machine-learn/WDBC/\n",
            "\n",
            ".. topic:: References\n",
            "\n",
            "   - W.N. Street, W.H. Wolberg and O.L. Mangasarian. Nuclear feature extraction \n",
            "     for breast tumor diagnosis. IS&T/SPIE 1993 International Symposium on \n",
            "     Electronic Imaging: Science and Technology, volume 1905, pages 861-870,\n",
            "     San Jose, CA, 1993.\n",
            "   - O.L. Mangasarian, W.N. Street and W.H. Wolberg. Breast cancer diagnosis and \n",
            "     prognosis via linear programming. Operations Research, 43(4), pages 570-577, \n",
            "     July-August 1995.\n",
            "   - W.H. Wolberg, W.N. Street, and O.L. Mangasarian. Machine learning techniques\n",
            "     to diagnose breast cancer from fine-needle aspirates. Cancer Letters 77 (1994) \n",
            "     163-171.\n"
          ]
        }
      ],
      "source": [
        "print(load_breast_cancer().DESCR)"
      ]
    },
    {
      "cell_type": "code",
      "execution_count": 24,
      "metadata": {
        "colab": {
          "base_uri": "https://localhost:8080/"
        },
        "id": "YRq502AtcWHx",
        "outputId": "1d78dd19-8c90-42cf-ee81-3a883448634d"
      },
      "outputs": [
        {
          "output_type": "stream",
          "name": "stdout",
          "text": [
            "array shapes [(512, 30), (57, 30), (512,), (57,)]\n",
            "y values [0 1] [0 1]\n"
          ]
        }
      ],
      "source": [
        "np.random.seed(0)\n",
        "X, y = load_breast_cancer(return_X_y=True)\n",
        "X_train, X_val, y_train, y_val= train_test_split(X, y, train_size=0.9)\n",
        "\n",
        "scaler = StandardScaler()\n",
        "X_train = scaler.fit_transform(X_train)\n",
        "X_val = scaler.transform(X_val)\n",
        "\n",
        "\n",
        "print(\"array shapes\", [t.shape for t in [X_train, X_val, y_train, y_val]])\n",
        "print(\"y values\", np.unique(y_train), np.unique(y_val) )"
      ]
    },
    {
      "cell_type": "markdown",
      "metadata": {
        "id": "O3oPbqvxcWHy"
      },
      "source": [
        "\n",
        "### Linear vs logistic regression\n",
        "\n",
        "We need to transform a vector of 30 features into a value $\\in (0,1)$. Can we use linear regression for that?\n",
        "\n",
        "![classification_regression](https://raw.githubusercontent.com/aghbit/BIT_AI/master/3_logistic_regression/img/clas_reg.png)\n",
        "\n",
        "Recall that in linear regression $f(x) \\in \\mathbb{R} $ is defined as:\n",
        "$$\n",
        "f(x) = w^T x + b\n",
        "$$\n",
        "\n",
        "Where $w, b$ are trainable parameters.\n",
        "\n",
        "In logistic regression, we will need to squash the output, so that $f(x) \\in [0,1]$. A convenient way to do this is the **sigmoid** function:\n",
        "\n",
        "$$\\sigma(x) = \\frac{1}{1+e^{-x}}$$"
      ]
    },
    {
      "cell_type": "code",
      "execution_count": 25,
      "metadata": {
        "colab": {
          "base_uri": "https://localhost:8080/",
          "height": 499
        },
        "id": "dK2buk8_cWH0",
        "outputId": "aca9e962-9f3f-42eb-d64e-495c1e330567"
      },
      "outputs": [
        {
          "output_type": "stream",
          "name": "stdout",
          "text": [
            "sigmoid(-inf) = 0.0\n",
            "sigmoid(0) = 0.5\n",
            "sigmoid(1) = 0.7310585786300049\n",
            "sigmoid(inf) = 1.0\n"
          ]
        },
        {
          "output_type": "display_data",
          "data": {
            "text/plain": [
              "<Figure size 640x480 with 1 Axes>"
            ],
            "image/png": "[encoded data removed]"
          },
          "metadata": {}
        }
      ],
      "source": [
        "def sigmoid(x):\n",
        "    return 1 / (1 + np.exp(-x))\n",
        "\n",
        "for x in [\n",
        "   -np.inf,\n",
        "    0,\n",
        "    1,\n",
        "    np.inf\n",
        "]:\n",
        "    print(f\"sigmoid({x}) = {sigmoid(x)}\")\n",
        "\n",
        "x = np.linspace(-10, 10)\n",
        "\n",
        "plt.plot(x, sigmoid(x))\n",
        "plt.grid(True)\n",
        "plt.show()"
      ]
    },
    {
      "cell_type": "markdown",
      "metadata": {
        "id": "l5HF2M3HcWH0"
      },
      "source": [
        "To sum it up, in case of binary classification:\n",
        "$$\n",
        "\\hat{p}(y=1 | x) = \\sigma(w^Tx + b)\n",
        "$$\n",
        "\n",
        "What about the loss function which can train such a model?\n",
        "\n",
        "We'll use a logarithmic loss function which quite nicely captures an intuition, that we want the predictions datapoints which should be predicted as $0$ as close to $0$ as possible, and, analogically, predictions which should be $1$, as close to $1$ as possible:\n",
        "\n",
        "$$ L = \\frac{-1}{n}\\Big(\\sum_{i=0}^n y^{(i)}\\log{f(x^{(i)})} + (1-y^{(i)})\\log{(1-f(x^{(i)}))} \\Big)$$\n",
        "\n",
        "This function is called **Binary Cross-Entropy**"
      ]
    },
    {
      "cell_type": "code",
      "execution_count": 26,
      "metadata": {
        "colab": {
          "base_uri": "https://localhost:8080/",
          "height": 430
        },
        "id": "Fr5JYH66cWH1",
        "outputId": "8a34fea2-41ca-49d5-ef4b-2f072b21aa41"
      },
      "outputs": [
        {
          "output_type": "display_data",
          "data": {
            "text/plain": [
              "<Figure size 640x480 with 1 Axes>"
            ],
            "image/png": "[encoded data removed]"
          },
          "metadata": {}
        }
      ],
      "source": [
        "x = np.linspace(1e-6, 1 - (1e-6), 1000)\n",
        "\n",
        "plt.plot(x, -np.log(1 - x), label=\"loss when y = 0\")\n",
        "plt.plot(x, -np.log(x), label=\"loss when y = 1\")\n",
        "plt.legend()\n",
        "plt.show()"
      ]
    },
    {
      "cell_type": "markdown",
      "metadata": {
        "id": "Ax8UX43JcWH1"
      },
      "source": [
        "### Task for you: implement the binary cross-entropy function."
      ]
    },
    {
      "cell_type": "code",
      "execution_count": 27,
      "metadata": {
        "id": "0PE0t3xGcWH2"
      },
      "outputs": [],
      "source": [
        "def binary_cross_entropy(x, y, w, b) -> float:\n",
        "    z = sigmoid(np.matmul(x, w)+b)\n",
        "    return (np.matmul(y, np.log(z))+np.matmul(1-y, np.log(1-z)))*(-1)//len(x)"
      ]
    },
    {
      "cell_type": "code",
      "execution_count": 28,
      "metadata": {
        "id": "FMdVmSvGcWH2"
      },
      "outputs": [],
      "source": [
        "#l_train = binary_cross_entropy(X_train, y_train, w=w, b=b)"
      ]
    },
    {
      "cell_type": "markdown",
      "metadata": {
        "id": "HLDK0o2ecWH2"
      },
      "source": [
        "In order to train the parameters $w, b$ of our model, we need to calculate the gradients of loss with regard to those parameters:\n",
        "\n",
        "$$ \\frac{\\partial L}{\\partial w} \\text{ and } \\frac{\\partial L}{\\partial b} $$\n"
      ]
    },
    {
      "cell_type": "markdown",
      "metadata": {
        "id": "G_vxdOnHcWH2"
      },
      "source": [
        "### Task for you: implement the function which calculates $\\frac{\\partial L}{\\partial w}$ and $\\frac{\\partial L}{\\partial b}$:"
      ]
    },
    {
      "cell_type": "code",
      "execution_count": 29,
      "metadata": {
        "id": "vjA6PeACcWH3"
      },
      "outputs": [],
      "source": [
        "def calculate_gradients(x, y, w, b) -> Tuple[np.ndarray, np.ndarray]:    \n",
        "    w_grad = 1/len(x)*(np.matmul((sigmoid(np.matmul(x, w)+b)-y.reshape(len(y), 1)).transpose(), x)).transpose()\n",
        "    b_grad = 1/len(x)*np.sum((sigmoid(np.matmul(x, w)+b)-y.reshape(len(y), 1)).transpose())\n",
        "    return (w_grad, b_grad)"
      ]
    },
    {
      "cell_type": "markdown",
      "metadata": {
        "id": "Tp9PFWa0cWH3"
      },
      "source": [
        "With the gradient calculation implemented, we should be able to train our model with the **Gradient Descent** method.\n",
        "\n",
        "With a good choice of learning rate, you should be able to achieve around 90% validation accuracy."
      ]
    },
    {
      "cell_type": "code",
      "execution_count": 30,
      "metadata": {
        "colab": {
          "base_uri": "https://localhost:8080/",
          "height": 847
        },
        "id": "lhRQqem-cWH4",
        "outputId": "1647936c-3386-4cd8-af73-4f9c39b5bd71"
      },
      "outputs": [
        {
          "output_type": "display_data",
          "data": {
            "text/plain": [
              "<Figure size 640x480 with 1 Axes>"
            ],
            "image/png": "[encoded data removed]"
          },
          "metadata": {}
        },
        {
          "output_type": "display_data",
          "data": {
            "text/plain": [
              "<Figure size 640x480 with 1 Axes>"
            ],
            "image/png": "[encoded data removed]"
          },
          "metadata": {}
        }
      ],
      "source": [
        "w = np.random.randn(30, 1) \n",
        "b = np.random.randn(1)\n",
        "# how should we initialize w and b?\n",
        "\n",
        "lr = 1e-1\n",
        "# how big should be the learning rate?\n",
        "\n",
        "history = []\n",
        "\n",
        "for epoch in range(100):\n",
        "    \n",
        "    y_pred_train = sigmoid(np.matmul(X_train, w)+b)# calculate predictions based on x, w, and b (don't forget sigmoid!)\n",
        "    y_pred_train = (y_pred_train > 0.5).astype(int)\n",
        "    train_accuracy = (y_pred_train.reshape(-1) == y_train).mean()\n",
        "    \n",
        "    y_pred_val = sigmoid(np.matmul(X_val, w)+b) # calculate predictions based on x, w, and b (don't forget sigmoid!)\n",
        "    y_pred_val = (y_pred_val > 0.5).astype(int)\n",
        "    val_accuracy = (y_pred_val.reshape(-1) == y_val).mean()\n",
        "    \n",
        "    l_train = binary_cross_entropy(X_train, y_train, w=w, b=b)\n",
        "    dw, db = calculate_gradients(X_train, y_train, w=w, b=b)\n",
        "\n",
        "    w = w - lr*dw  # assign new value of w based on gradient dw\n",
        "    b = b - lr*db # assign new value of b based on gradient db\n",
        "    \n",
        "    elem = dict(epoch=epoch, loss=l_train, train_accuracy=train_accuracy, val_accuracy=val_accuracy)\n",
        "    history.append(elem)\n",
        "\n",
        "plt.plot([h[\"epoch\"] for h in history], [h[\"loss\"] for h in history], label=\"loss\")\n",
        "plt.legend()\n",
        "plt.show()\n",
        "\n",
        "plt.plot([h[\"epoch\"] for h in history], [h[\"train_accuracy\"] for h in history], label=\"train acc\")\n",
        "plt.plot([h[\"epoch\"] for h in history], [h[\"val_accuracy\"] for h in history], label=\"val acc\")\n",
        "plt.legend()\n",
        "plt.show()"
      ]
    },
    {
      "cell_type": "markdown",
      "metadata": {
        "id": "__AGc4MHcWH4"
      },
      "source": [
        "## 3. Logistic regression with PyTorch automatic differentiation / loss / optimization tools"
      ]
    },
    {
      "cell_type": "code",
      "execution_count": 31,
      "metadata": {
        "id": "CQ215jrYcWH4"
      },
      "outputs": [],
      "source": [
        "from torch.optim import SGD\n",
        "from torch import nn\n",
        "import torch"
      ]
    },
    {
      "cell_type": "markdown",
      "metadata": {
        "id": "cDHy0V63cWH4"
      },
      "source": [
        "### Task for you: initialize a logistic regression PyTorch model and train it\n",
        "\n",
        "You should achieve around 90% validation accuracy."
      ]
    },
    {
      "cell_type": "code",
      "execution_count": 32,
      "metadata": {
        "colab": {
          "base_uri": "https://localhost:8080/"
        },
        "id": "g8t4EiY8cWH9",
        "outputId": "350fedb0-9067-4974-d874-4e615a5625bc"
      },
      "outputs": [
        {
          "output_type": "stream",
          "name": "stdout",
          "text": [
            "{'0.weight': torch.Size([1, 30]), '0.bias': torch.Size([1])}\n"
          ]
        }
      ],
      "source": [
        "model = nn.Sequential(\n",
        "    nn.Linear(30, 1),\n",
        "    nn.Sigmoid()\n",
        "    # we need a sequence of two pytorch layers for a basic logistic regression model - which ones?\n",
        ")\n",
        "opt = SGD(model.parameters(), lr=1e-1)\n",
        "loss_fn = nn.BCELoss()\n",
        "\n",
        "print({\n",
        "    name: p.shape\n",
        "    for (name, p) in model.named_parameters()\n",
        "})"
      ]
    },
    {
      "cell_type": "code",
      "execution_count": 33,
      "metadata": {
        "colab": {
          "base_uri": "https://localhost:8080/",
          "height": 843
        },
        "id": "VCbCrBAwcWH-",
        "outputId": "68e8d3af-1f57-457d-928c-13b2cb97d9d4"
      },
      "outputs": [
        {
          "output_type": "display_data",
          "data": {
            "text/plain": [
              "<Figure size 640x480 with 1 Axes>"
            ],
            "image/png": "[encoded data removed]"
          },
          "metadata": {}
        },
        {
          "output_type": "display_data",
          "data": {
            "text/plain": [
              "<Figure size 640x480 with 1 Axes>"
            ],
            "image/png": "[encoded data removed]"
          },
          "metadata": {}
        }
      ],
      "source": [
        "history = []\n",
        "\n",
        "X_train = torch.tensor(X_train).type(torch.FloatTensor)\n",
        "\n",
        "X_val = torch.tensor(X_val).type(torch.FloatTensor)\n",
        "y_train = (torch.tensor(y_train)).type(torch.FloatTensor)\n",
        "y_val = (torch.tensor(y_val)).type(torch.FloatTensor)\n",
        "\n",
        "\n",
        "for epoch in range(100):\n",
        "    opt.zero_grad()\n",
        "    \n",
        "    ### YOUR CODE HERE ###\n",
        "    y_pred_train = model(X_train).squeeze() # make predictions for train set\n",
        "    \n",
        "    y_pred_val = model(X_val).squeeze() # make_predictions for val set\n",
        "    \n",
        "    #print(y_train.size())\n",
        "    #print(y_pred_train)\n",
        "    #print(y_train)\n",
        "\n",
        "    # calculate loss\n",
        "    l_train = loss_fn(y_pred_train, y_train)\n",
        "    #print(l_train)\n",
        "    l_train.backward()\n",
        "    opt.step()\n",
        "    # calculate gradients with respect to l_train\n",
        "    \n",
        "    # perform the optimization step with the optimizer\n",
        "    \n",
        "    #######################\n",
        "    predictions = (y_pred_train.detach().numpy() > 0.5)\n",
        "    \n",
        "    train_accuracy = (predictions == y_train.detach().numpy()).mean()\n",
        "    \n",
        "    val_predictions = (y_pred_val.detach().numpy() > 0.5)\n",
        "\n",
        "    val_accuracy = (val_predictions == y_val.detach().numpy()).mean()\n",
        "\n",
        "    elem = dict(epoch=epoch, loss=l_train.item(), train_accuracy=train_accuracy, val_accuracy=val_accuracy)\n",
        "    history.append(elem)\n",
        "    \n",
        "\n",
        "\n",
        "    \n",
        "plt.plot([h[\"epoch\"] for h in history], [h[\"loss\"] for h in history], label=\"loss\")\n",
        "plt.legend()\n",
        "plt.show()\n",
        "\n",
        "plt.plot([h[\"epoch\"] for h in history], [h[\"train_accuracy\"] for h in history], label=\"train acc\")\n",
        "plt.plot([h[\"epoch\"] for h in history], [h[\"val_accuracy\"] for h in history], label=\"val acc\")\n",
        "plt.legend()\n",
        "plt.show()"
      ]
    },
    {
      "cell_type": "markdown",
      "metadata": {
        "id": "ZfrbROFFcWH-"
      },
      "source": [
        "## 4. FashionMNIST: a bigger task\n",
        "\n",
        "Let's now train a neural net on a more challenging, multi-label FashionMNIST task."
      ]
    },
    {
      "cell_type": "code",
      "execution_count": 34,
      "metadata": {
        "id": "EszN3JG_cWH-"
      },
      "outputs": [],
      "source": [
        "from torchvision.datasets import FashionMNIST\n",
        "from torchvision import transforms as tv\n",
        "from torch.utils.data import DataLoader\n",
        "from sklearn.metrics import accuracy_score"
      ]
    },
    {
      "cell_type": "markdown",
      "metadata": {
        "id": "wo0jgWrWcWH_"
      },
      "source": [
        "### Task: load the dataset and visualize some examples along with their classes\n",
        "* what is the shape of a single example from the dataset?"
      ]
    },
    {
      "cell_type": "code",
      "execution_count": 35,
      "metadata": {
        "id": "aHvO-UlVcWH_"
      },
      "outputs": [],
      "source": [
        "ds = FashionMNIST('./data', train=True, target_transform=None, download=True, transform=tv.ToTensor()) # transform the data from PIL image to a tensor\n",
        "ds_test = FashionMNIST('./data', train=False, target_transform=None, download=True, transform=tv.ToTensor()) # transform the data from PIL image to a tensor"
      ]
    },
    {
      "cell_type": "code",
      "execution_count": 36,
      "metadata": {
        "id": "S0sHfd6ScWH_"
      },
      "outputs": [],
      "source": [
        "# visualize 10 examples from the dataset, along with their class numbers"
      ]
    },
    {
      "cell_type": "code",
      "execution_count": 37,
      "metadata": {
        "id": "nL756oULcWH_"
      },
      "outputs": [],
      "source": [
        "batch_size=64\n",
        "\n",
        "train_dl = DataLoader(ds, batch_size, shuffle=True)\n",
        "valid_dl = DataLoader(ds_test, batch_size, shuffle=True)"
      ]
    },
    {
      "cell_type": "markdown",
      "metadata": {
        "id": "nmeML4wacWH_"
      },
      "source": [
        "### Task: implement and train a neural network with two linear layers and ReLU activation between them. \n",
        "\n",
        "You should achieve at least 80% validation accuracy."
      ]
    },
    {
      "cell_type": "code",
      "execution_count": 38,
      "metadata": {
        "id": "_0H1YboPcWIA"
      },
      "outputs": [],
      "source": [
        "class FashionNN(nn.Module):\n",
        "    def __init__(self):\n",
        "        super().__init__()\n",
        "        self.fc1 = nn.Linear(28*28, 128)\n",
        "        self.fc2 = nn.Linear(128, 10)\n",
        "        # initialize the layers of the network\n",
        "        # what is the size of the input?\n",
        "        # what is the output size?\n",
        "        \n",
        "    def forward(self, x):\n",
        "        x = self.fc1(x)\n",
        "        x = nn.functional.relu(x)\n",
        "        x = self.fc2(x)\n",
        "        return x\n",
        "        # process x through:\n",
        "        # 1) first layer\n",
        "        # 2) relu activation\n",
        "        # 3) second layer"
      ]
    },
    {
      "cell_type": "code",
      "execution_count": 39,
      "metadata": {
        "id": "omGTo5vZcWIA"
      },
      "outputs": [],
      "source": [
        "net = FashionNN() # actually initialize the net\n",
        "loss_fn = nn.CrossEntropyLoss() # what loss do we use for multilabel classification?\n",
        "opt = torch.optim.Adam(net.parameters())"
      ]
    },
    {
      "cell_type": "code",
      "execution_count": null,
      "metadata": {
        "id": "bukDrAURcWIA"
      },
      "outputs": [],
      "source": [
        "number_of_epochs = 10\n",
        "\n",
        "for i in range(number_of_epochs):\n",
        "    train_loss = 0\n",
        "    for iteration, (X_train, y_train) in enumerate(train_dl):\n",
        "        \n",
        "        opt.zero_grad()\n",
        "\n",
        "        # perform optimization on the train set and calculate the total train loss\n",
        "        X_train = X_train.view(X_train.size(0), -1)\n",
        "\n",
        "        predictions = net(X_train)\n",
        "\n",
        "        loss = loss_fn(predictions, y_train)\n",
        "        loss.backward()\n",
        "        train_loss += loss.item()\n",
        "        opt.step()\n",
        "\n",
        "        \n",
        "        \n",
        "    val_loss = 0\n",
        "    y_predicted = []\n",
        "    y_true = []\n",
        "\n",
        "    with torch.no_grad():\n",
        "        for iteration, (X_val, y_val) in enumerate(valid_dl):\n",
        "            # perform predictions on the validation set and gather them to calculate accuracy\n",
        "            X_val = X_val.view(X_val.size(0), -1)\n",
        "            y_pred = net(X_val)\n",
        "            loss = loss_fn(y_pred, y_val)\n",
        "            val_loss += loss.item()\n",
        "            y_pred = y_pred.argmax(dim=1)\n",
        "            y_true.extend(y_val.numpy())\n",
        "            y_predicted.extend(y_pred.numpy())\n",
        "    \n",
        "            \n",
        "    val_acc = accuracy_score(y_true, y_predicted)\n",
        "    print(f'#Epoch: {i}, train loss: {train_loss}, val loss: {val_loss}, val_acc: {val_acc}')\n",
        "    "
      ]
    }
  ],
  "metadata": {
    "colab": {
      "provenance": []
    },
    "kernelspec": {
      "display_name": "Python 3 (ipykernel)",
      "language": "python",
      "name": "python3"
    },
    "language_info": {
      "codemirror_mode": {
        "name": "ipython",
        "version": 3
      },
      "file_extension": ".py",
      "mimetype": "text/x-python",
      "name": "python",
      "nbconvert_exporter": "python",
      "pygments_lexer": "ipython3",
      "version": "3.10.9"
    }
  },
  "nbformat": 4,
  "nbformat_minor": 0
}